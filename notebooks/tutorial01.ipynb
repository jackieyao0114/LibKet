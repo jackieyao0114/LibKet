{
 "cells": [
  {
   "cell_type": "markdown",
   "metadata": {},
   "source": [
    "[![LibKet](images/xeus-cling.png)](https://gitlab.com/mmoelle1/LibKet)\n",
    "\n",
    "LibKet - The Quantum Expression Template Library.\n",
    "\n",
    "- GitLab repository: https://gitlab.com/mmoelle1/LibKet/\n",
    "- Online documentation: https://mmoelle1.gitlab.io/LibKet/"
   ]
  },
  "metadata": {
  "kernelspec": {
   "display_name": "C++14",
   "language": "C++14",
   "name": "xcpp14"
  },
  "language_info": {
   "codemirror_mode": "text/x-c++src",
   "file_extension": ".cpp",
   "mimetype": "text/x-c++src",
   "name": "c++",
   "version": "14"
  }
 },
 "nbformat": 4,
 "nbformat_minor": 2
}
