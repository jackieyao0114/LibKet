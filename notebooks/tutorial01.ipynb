{
 "cells": [
  {
   "cell_type": "markdown",
   "metadata": {},
   "source": [
    "[![LibKet](images/LibKet.png)](https://gitlab.com/mmoelle1/LibKet)\n",
    "\n",
    "LibKet - The Quantum Expression Template Library.\n",
    "\n",
    "- GitLab repository: https://gitlab.com/mmoelle1/LibKet/\n",
    "- Online documentation: https://mmoelle1.gitlab.io/LibKet/"
   ]
  },
  {
   "cell_type": "code",
   "execution_count": null,
   "metadata": {},
   "outputs": [],
   "source": [
    "#include <iostream>\n",
    "#include <LibKet.hpp\n",
    "\n",
    "using namespace LibKet;\n",
    "using namespace LibKet::filters;\n",
    "using namespace LibKet::gates;\n",
    "\n",
    "std::cout << \"some output\" << std::endl;"
   ]
  },
 ],
 "metadata": {
  "kernelspec": {
   "display_name": "C++14",
   "language": "C++14",
   "name": "xcpp14"
  },
  "language_info": {
   "codemirror_mode": "text/x-c++src",
   "file_extension": ".cpp",
   "mimetype": "text/x-c++src",
   "name": "c++",
   "version": "14"
  }
 },
 "nbformat": 4,
 "nbformat_minor": 2
}
