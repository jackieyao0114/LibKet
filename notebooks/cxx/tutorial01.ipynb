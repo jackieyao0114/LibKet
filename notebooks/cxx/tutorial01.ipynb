{
 "cells": [
  {
   "cell_type": "markdown",
   "metadata": {},
   "source": [
    "[![LibKet](../images/LibKet.png)](https://gitlab.com/mmoelle1/LibKet)\n",
    "\n",
    "**LibKet - The Quantum Expression Template Library.**\n",
    "\n",
    "- GitLab repository: https://gitlab.com/mmoelle1/LibKet/\n",
    "- Online documentation: https://mmoelle1.gitlab.io/LibKet/"
   ]
  },
  {
   "metadata": {
    "trusted": true
   },
   "cell_type": "code",
   "source": [
    "#pragma cling add_include_path(\"/home/jovyan/LibKet/external/armadillo\")\n",
    "#pragma cling add_include_path(\"/home/jovyan/LibKet/libket\")\n",
    "\n",
    "#pragma cling add_library_path(\"/home/jovyan/LibKet/build/external/armadillo\")\n",
    "#pragma cling add_library_path(\"/home/jovyan/LibKet/build/external/QuEST/QuEST\")\n",
    "\n",
    "#pragma cling load(\"libarmadillo.so\")\n",
    "#pragma cling load(\"libQuEST.so\")\n",
    "\n",
    "#include <LibKet.hpp>"
   ],
   "execution_count": 1,
   "outputs": []
  },
  {
   "metadata": {
    "trusted": true
   },
   "cell_type": "code",
   "source": "",
   "execution_count": null,
   "outputs": []
  }
 ],
 "metadata": {
  "kernelspec": {
   "name":"xcpp14",
   "display_name":"C++14",
   "language":"C++14"},
   "language_info": {"codemirror_mode": "text/x-c++src",
   "file_extension": ".cpp",
   "mimetype": "text/x-c++src",
   "name": "c++",
   "version": "14"
  }
 },
 "nbformat":4,
 "nbformat_minor":1
}