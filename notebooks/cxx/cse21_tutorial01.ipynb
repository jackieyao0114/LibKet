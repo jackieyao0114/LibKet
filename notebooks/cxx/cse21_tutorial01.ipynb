{
 "cells": [
  {
   "cell_type": "markdown",
   "metadata": {},
   "source": [
    "[![LibKet](../images/LibKet.png)](https://gitlab.com/mmoelle1/LibKet)\n",
    "\n",
    "**LibKet - The Quantum Expression Template Library.**\n",
    "\n",
    "- Repository:    https://gitlab.com/mmoelle1/LibKet/\n",
    "- Documentation: https://libket.readthedocs.io/\n",
    "- API docs:      https://mmoelle1.gitlab.io/LibKet/"
   ]
  },
  {
   "cell_type": "markdown",
   "metadata": {},
   "source": [
    "## Getting started\n",
    "\n",
    "LibKet is implemented as header-only C++14 library. It suffices to include the main header file `LibKet.hpp` in your application."
   ]
  },
  {
   "metadata": {
    "trusted": true
   },
   "cell_type": "code",
   "source": [
    "#include \"LibKet.hpp\""
   ],
   "execution_count": 1,
   "outputs": []
  },
  {
   "cell_type": "markdown",
   "metadata": {},
   "source": [
    "The main functionality resides in the global namespace `LibKet` and in the nested namespaces `circuits`, `filters`, and `gates`.\n",
    "Let's import their functionality."
   ]
  },
  {
   "metadata": {
    "trusted": true
   },
   "cell_type": "code",
   "source": [
    "using namespace LibKet;\n",
    "using namespace LibKet::circuits;\n",
    "using namespace LibKet::filters;\n",
    "using namespace LibKet::gates;"
   ],
   "execution_count": 1,
   "outputs": []
  },
  {
   "metadata": {
    "trusted": true
   },
   "cell_type": "code",
   "source": "",
   "execution_count": null,
   "outputs": []
  }
 ],
 "metadata": {
  "kernelspec": {
   "name":"xcpp14",
   "display_name":"C++14",
   "language":"C++14"},
   "language_info": {"codemirror_mode": "text/x-c++src",
   "file_extension": ".cpp",
   "mimetype": "text/x-c++src",
   "name": "c++",
   "version": "14",
   "argv": [
    "xcpp",
    "-f",
    "{connection_file}",
    "-L/srv/conda/envs/notebook/lib/python3.7/config-3.7m-x86_64-linux-gnu",
    "-L/srv/conda/envs/notebook/lib",
    "-lpython3.7m",
    "-lcrypt",
    "-lpthread",
    "-ldl",
    "-lutil",
    "-lrt",
    "-lm",
    "-msse3",
    "-DCG_BC",
    "-DQX_SPARSE_MV_MUL",
    "-DXPU_TIMER",
    "-D__BUILTIN_LINALG__",
    "-std=c++14"
   ]
  }
 },
 "nbformat":4,
 "nbformat_minor":1
}
