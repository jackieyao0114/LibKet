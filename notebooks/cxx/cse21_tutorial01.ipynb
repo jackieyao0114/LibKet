{
 "cells": [
  {
   "cell_type": "markdown",
   "metadata": {},
   "source": [
    "[![LibKet](../images/LibKet.png)](https://gitlab.com/mmoelle1/LibKet)\n",
    "\n",
    "**LibKet - The Quantum Expression Template Library.**\n",
    "\n",
    "- Repository:    https://gitlab.com/mmoelle1/LibKet/\n",
    "- Documentation: https://libket.readthedocs.io/\n",
    "- API docs:      https://mmoelle1.gitlab.io/LibKet/"
   ]
  },
  {
   "cell_type": "markdown",
   "metadata": {},
   "source": [
    "## Getting started\n",
    "\n",
    "**LibKet** is implemented as header-only C++14 library. It suffices to include the main header file `LibKet.hpp` in your application."
   ]
  },
  {
   "metadata": {
    "trusted": true
   },
   "cell_type": "code",
   "source": [
    "#include \"LibKet.hpp\""
   ],
   "execution_count": 1,
   "outputs": []
  },
  {
   "cell_type": "markdown",
   "metadata": {},
   "source": [
    "Please make sure that you use quotes \"\" instead of <> in this online environment since this file contains specific settings only required for the online environment. In your regular application you can simply use `#include <LibKet.hpp>`.\n\n",
    "**LibKet**'s main functionality resides in the global namespace `LibKet` and in the nested namespaces `circuits`, `filters`, and `gates`.\n\n",
    "Let's import their functionality."
   ]
  },
  {
   "metadata": {
    "trusted": true
   },
   "cell_type": "code",
   "source": [
    "using namespace LibKet;\n",
    "using namespace LibKet::circuits;\n",
    "using namespace LibKet::filters;\n",
    "using namespace LibKet::gates;"
   ],
   "execution_count": 1,
   "outputs": []
  },
  {
   "cell_type": "markdown",
   "metadata": {},
   "source": [
    "Let us start with a single qubit and apply the Hadamard gate to it. In **LibKet** this consists of two steps:\n",
    "1. Creation of a generic hadrware-agnostic **quantum expression**\n",
    "2. Evaluation of the expression on a concrete **quantum backend**\n\n"
    ]
  },
  {
   "cell_type": "markdown",
   "metadata": {},
   "source": [
    "## Quantum expression\n",
    "Let's start with the first step and create a quantum expression that initializes the qubit to zero, applies the Hadamard gate and measures the qubit afterwards."
   ]
  },
  {
   "metadata": {
    "trusted": true
   },
   "cell_type": "code",
   "source": [
    "auto expr = measure(h(init()));"
   ],
   "execution_count": 1,
   "outputs": []
  },
  {
   "cell_type": "markdown",
   "metadata": {},
   "source": [
    "In contrast to other quantum programming languages **LibKet**'s quantum expressions have to be read from inside to outside.",
    "Note that the above expression does not perform any operations yet but only holds an abstract syntax tree (AST).",
    "You can print it with the help of the ``show()`` function. Let's do it."
   ]
  },
  {
   "metadata": {
    "trusted": true
   },
   "cell_type": "code",
   "source": [
    "show<99>(expr);"
   ],
   "execution_count": 1,
   "outputs": []
  },
  {
   "cell_type": "markdown",
   "metadata": {},
   "source": [
    "Only one level of the AST is printed by default. That's why we set the print level to ``99``."
   ]
  },
  {
   "cell_type": "markdown",
   "metadata": {},
   "source": [
    "## Quantum backend\n",
    "Let's evaluate our first quantum expression on a quantum simulator.",
    "**LibKet** supports a couple of them but the easiest one is probably the open-source [QuEST](https://quest.qtechtheory.org) *Quantum Exact Simulation Toolkit*\n",
    "The following code snippet shows how to\n",
    "1.  Create a **quantum device** object for a fixed number of qubits\n",
    "2.  Load our generic quantum expression into it\n",
    "3.  Evaluate the quantum kernel and print the result\n"
   ]
  },
  {
   "metadata": {
    "trusted": true
   },
   "cell_type": "code",
   "source": [
    "QDevice<QDeviceType::quest, 1> device;\n",
    "device(expr).eval(1);\n",
    "std::cout << "device.creg() << std::endl;"
   ],
   "execution_count": 1,
   "outputs": []
  },
  {
   "cell_type": "markdown",
   "metadata": {},
   "source": [
    "The result stored in the classical register ``device.creg()`` is either ``0`` or ``1`` and changes when we run the above code snippet multiple times.",
    "Just try it yourself.\n\n",
    "If you are interested in the probability of ending up in either of the two states you need to remove the measurement from the quantum expression and call ``device.probabilities().``,
    "That's of course only possible with a quantum simulator and not on a real quantum computer.",
    "Let's try it nontheless."
   ]
  },
  {
   "metadata": {
    "trusted": true
   },
   "cell_type": "code",
   "source": [
    "auto expr = h(init());"
    "QDevice<QDeviceType::quest, 1> device;\n",
    "device(expr).eval(1);\n",
    "std::cout << "device.probabilities() << std::endl;"
   ],
   "execution_count": 1,
   "outputs": []
  }
 ],
 "metadata": {
  "kernelspec": {
   "name":"xcpp14",
   "display_name":"C++14",
   "language":"C++14"},
   "language_info": {"codemirror_mode": "text/x-c++src",
   "file_extension": ".cpp",
   "mimetype": "text/x-c++src",
   "name": "c++",
   "version": "14",
   "argv": [
    "xcpp",
    "-f",
    "{connection_file}",
    "-L/srv/conda/envs/notebook/lib/python3.7/config-3.7m-x86_64-linux-gnu",
    "-L/srv/conda/envs/notebook/lib",
    "-lpython3.7m",
    "-lcrypt",
    "-lpthread",
    "-ldl",
    "-lutil",
    "-lrt",
    "-lm",
    "-DCG_BC",
    "-DQX_SPARSE_MV_MUL",
    "-DXPU_TIMER",
    "-D__BUILTIN_LINALG__",
    "-U__SSE__",
    "-std=c++14"
   ]
  }
 },
 "nbformat":4,
 "nbformat_minor":1
}
